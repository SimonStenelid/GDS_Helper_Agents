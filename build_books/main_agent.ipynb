{
 "cells": [
  {
   "cell_type": "markdown",
   "metadata": {},
   "source": [
    "# Main Agent - Amadeus GDS Orchestrator\n",
    "\n",
    "This notebook implements the main orchestrator agent that coordinates the entire workflow:\n",
    "1. Receives user query from Slack handler\n",
    "2. Calls query_agent to interact with Amadeus API\n",
    "3. Calls explainer_agent to format the response\n",
    "4. Returns human-friendly response for Slack\n",
    "\n",
    "## Technology:\n",
    "- OpenAI Agents SDK\n",
    "- Tracing enabled for debugging and monitoring\n",
    "\n",
    "## Integration:\n",
    "The `process_user_query()` function is the entry point called by Slack_agent.ipynb"
   ]
  },
  {
   "cell_type": "markdown",
   "metadata": {},
   "source": [
    "## Section 1: Setup & Dependencies\n",
    "\n",
    "Install and import required packages, load environment variables"
   ]
  },
  {
   "cell_type": "code",
   "execution_count": null,
   "metadata": {},
   "outputs": [],
   "source": "# Install required packages\n!pip install openai-agents-sdk python-dotenv nest-asyncio"
  },
  {
   "cell_type": "code",
   "execution_count": 5,
   "metadata": {},
   "outputs": [
    {
     "name": "stdout",
     "output_type": "stream",
     "text": [
      "✅ OpenAI client initialized\n",
      "✅ Tracing will be used in workflow execution\n"
     ]
    }
   ],
   "source": [
    "import os\n",
    "import asyncio\n",
    "from dotenv import load_dotenv\n",
    "from openai import OpenAI\n",
    "from agents import Agent, Runner, trace\n",
    "\n",
    "# Load environment variables\n",
    "load_dotenv(override=True)\n",
    "\n",
    "# Initialize OpenAI client\n",
    "client = OpenAI(api_key=os.environ.get(\"OPENAI_API_KEY\"))\n",
    "\n",
    "print(\"✅ OpenAI client initialized\")\n",
    "print(\"✅ Tracing will be used in workflow execution\")"
   ]
  },
  {
   "cell_type": "markdown",
   "metadata": {},
   "source": [
    "## Section 2: Tool Definitions (Placeholders)\n",
    "\n",
    "Define placeholder tools for query_agent and explainer_agent.\n",
    "These will be replaced with actual agent implementations later."
   ]
  },
  {
   "cell_type": "code",
   "execution_count": 6,
   "metadata": {},
   "outputs": [
    {
     "name": "stdout",
     "output_type": "stream",
     "text": [
      "✅ Placeholder tools defined: query_agent_tool, explainer_agent_tool\n"
     ]
    }
   ],
   "source": [
    "def query_agent_tool(user_query: str) -> dict:\n",
    "    \"\"\"\n",
    "    Placeholder for query_agent - will interact with Amadeus API.\n",
    "    \n",
    "    Args:\n",
    "        user_query: Natural language query from user\n",
    "        \n",
    "    Returns:\n",
    "        dict: Structured flight data from Amadeus API\n",
    "    \"\"\"\n",
    "    # TODO: Replace with actual query_agent implementation\n",
    "    print(f\"🔍 Query Agent called with: {user_query}\")\n",
    "    \n",
    "    # Mock response simulating Amadeus API data\n",
    "    return {\n",
    "        \"status\": \"success\",\n",
    "        \"query\": user_query,\n",
    "        \"flights\": [\n",
    "            {\n",
    "                \"airline\": \"American Airlines\",\n",
    "                \"flight_number\": \"AA123\",\n",
    "                \"origin\": \"JFK\",\n",
    "                \"destination\": \"LAX\",\n",
    "                \"departure_time\": \"08:00 AM\",\n",
    "                \"arrival_time\": \"11:30 AM\",\n",
    "                \"duration\": \"5h 30m\",\n",
    "                \"price\": \"$299\",\n",
    "                \"stops\": \"Non-stop\"\n",
    "            },\n",
    "            {\n",
    "                \"airline\": \"Delta\",\n",
    "                \"flight_number\": \"DL456\",\n",
    "                \"origin\": \"JFK\",\n",
    "                \"destination\": \"LAX\",\n",
    "                \"departure_time\": \"02:00 PM\",\n",
    "                \"arrival_time\": \"05:45 PM\",\n",
    "                \"duration\": \"5h 45m\",\n",
    "                \"price\": \"$325\",\n",
    "                \"stops\": \"Non-stop\"\n",
    "            }\n",
    "        ]\n",
    "    }\n",
    "\n",
    "\n",
    "def explainer_agent_tool(flight_data: dict) -> str:\n",
    "    \"\"\"\n",
    "    Placeholder for explainer_agent - formats API response into human-readable text.\n",
    "    \n",
    "    Args:\n",
    "        flight_data: Raw Amadeus API response data\n",
    "        \n",
    "    Returns:\n",
    "        str: Formatted, human-friendly response\n",
    "    \"\"\"\n",
    "    # TODO: Replace with actual explainer_agent implementation\n",
    "    print(f\"📝 Explainer Agent called with flight data\")\n",
    "    \n",
    "    # Mock formatted response\n",
    "    flights = flight_data.get(\"flights\", [])\n",
    "    \n",
    "    response = f\"I found {len(flights)} flights for your search:\\n\\n\"\n",
    "    \n",
    "    for i, flight in enumerate(flights, 1):\n",
    "        response += f\"✈️ Option {i}: {flight['airline']} {flight['flight_number']}\\n\"\n",
    "        response += f\"   • Route: {flight['origin']} → {flight['destination']}\\n\"\n",
    "        response += f\"   • Departure: {flight['departure_time']} | Arrival: {flight['arrival_time']}\\n\"\n",
    "        response += f\"   • Duration: {flight['duration']} ({flight['stops']})\\n\"\n",
    "        response += f\"   • Price: {flight['price']}\\n\\n\"\n",
    "    \n",
    "    return response\n",
    "\n",
    "\n",
    "print(\"✅ Placeholder tools defined: query_agent_tool, explainer_agent_tool\")"
   ]
  },
  {
   "cell_type": "markdown",
   "metadata": {},
   "source": [
    "## Section 3: Main Agent Definition\n",
    "\n",
    "Create the orchestrator agent with clear instructions and tool access"
   ]
  },
  {
   "cell_type": "code",
   "execution_count": 7,
   "metadata": {},
   "outputs": [
    {
     "name": "stdout",
     "output_type": "stream",
     "text": [
      "✅ Main agent created: Amadeus GDS Orchestrator\n",
      "📋 Tools available: query_agent_tool, explainer_agent_tool\n"
     ]
    }
   ],
   "source": [
    "# Define the main orchestrator agent\n",
    "main_agent = Agent(\n",
    "    name=\"Amadeus GDS Orchestrator\",\n",
    "    instructions=\"\"\"\n",
    "    You are the main orchestrator for the Amadeus GDS Helper system.\n",
    "    \n",
    "    Your role:\n",
    "    1. Receive user queries about flights (search, booking, modifications, cancellations)\n",
    "    2. Understand the user's intent from their natural language query\n",
    "    3. Call the query_agent_tool to get flight data from Amadeus API\n",
    "    4. Call the explainer_agent_tool to format the API response into human-readable text\n",
    "    5. Return the formatted response to the user\n",
    "    \n",
    "    Key principles:\n",
    "    - Always call query_agent_tool first to get the data\n",
    "    - Then call explainer_agent_tool to format the response\n",
    "    - Be helpful, concise, and user-friendly\n",
    "    - Handle errors gracefully and inform the user clearly\n",
    "    \n",
    "    The workflow is: User Query → Query Agent → Explainer Agent → Formatted Response\n",
    "    \"\"\",\n",
    "    model=\"gpt-4o\",\n",
    "    tools=[query_agent_tool, explainer_agent_tool]\n",
    ")\n",
    "\n",
    "print(\"✅ Main agent created: Amadeus GDS Orchestrator\")\n",
    "print(\"📋 Tools available: query_agent_tool, explainer_agent_tool\")"
   ]
  },
  {
   "cell_type": "markdown",
   "metadata": {},
   "source": [
    "<cell_type>markdown</cell_type>## Section 4: Runner Configuration\n",
    "\n",
    "The Runner is used via `Runner.run()` as a static method (no instantiation needed)"
   ]
  },
  {
   "cell_type": "code",
   "execution_count": 8,
   "metadata": {},
   "outputs": [
    {
     "name": "stdout",
     "output_type": "stream",
     "text": [
      "✅ Runner will be used via Runner.run() static method\n",
      "✅ Agent workflow is ready to execute\n"
     ]
    }
   ],
   "source": [
    "# No runner instantiation needed - Runner.run() is a static method\n",
    "print(\"✅ Runner will be used via Runner.run() static method\")\n",
    "print(\"✅ Agent workflow is ready to execute\")"
   ]
  },
  {
   "cell_type": "markdown",
   "metadata": {},
   "source": [
    "## Section 5: Process User Query Function\n",
    "\n",
    "Main entry point for Slack integration - processes user queries and returns responses"
   ]
  },
  {
   "cell_type": "code",
   "execution_count": null,
   "metadata": {},
   "outputs": [],
   "source": "async def process_user_query_async(user_query: str) -> str:\n    \"\"\"\n    Process a user query through the main agent workflow (async version).\n    \n    This function is called by the Slack handler and orchestrates:\n    1. Query agent to get Amadeus API data\n    2. Explainer agent to format the response\n    \n    Args:\n        user_query: Natural language query from Slack user\n        \n    Returns:\n        str: Formatted response ready for Slack posting\n    \"\"\"\n    try:\n        print(f\"\\n{'='*60}\")\n        print(f\"🚀 Processing query: {user_query}\")\n        print(f\"{'='*60}\\n\")\n        \n        # Run the agent workflow with tracing\n        with trace(\"main_agent_workflow\", metadata={\"query\": user_query}) as t:\n            result = await Runner.run(main_agent, user_query)\n        \n        # Extract the final response\n        response = result.final_output\n        \n        print(f\"\\n{'='*60}\")\n        print(f\"✅ Workflow completed successfully\")\n        print(f\"{'='*60}\\n\")\n        \n        return response\n        \n    except Exception as e:\n        error_message = f\"❌ Error processing query: {str(e)}\"\n        print(f\"\\n{error_message}\\n\")\n        return f\"Sorry, I encountered an error while processing your request: {str(e)}\\nPlease try again or contact support.\"\n\n\ndef process_user_query(user_query: str) -> str:\n    \"\"\"\n    Synchronous wrapper for process_user_query_async.\n    This is the main entry point called by Slack handler.\n    \n    Args:\n        user_query: Natural language query from Slack user\n        \n    Returns:\n        str: Formatted response ready for Slack posting\n    \"\"\"\n    # Check if we're in a Jupyter notebook with an existing event loop\n    try:\n        loop = asyncio.get_running_loop()\n        # If we're here, there's already a loop running (Jupyter)\n        # Create a task and run it\n        import nest_asyncio\n        nest_asyncio.apply()\n        return asyncio.run(process_user_query_async(user_query))\n    except RuntimeError:\n        # No event loop running (normal Python script)\n        return asyncio.run(process_user_query_async(user_query))\n\n\nprint(\"✅ process_user_query() function ready (sync wrapper)\")\nprint(\"✅ process_user_query_async() function ready (async implementation)\")\nprint(\"📌 Use process_user_query() as the integration point for Slack_agent.ipynb\")"
  },
  {
   "cell_type": "markdown",
   "metadata": {},
   "source": "<cell_type>markdown</cell_type>## Section 6: Manual Testing\n\nTest the main agent with sample queries\n\n**Note:** In Jupyter notebooks, we can use `await` directly since the event loop is already running."
  },
  {
   "cell_type": "code",
   "execution_count": null,
   "metadata": {},
   "outputs": [],
   "source": "# Test Query 1: Flight search\ntest_query_1 = \"Find me flights from New York to Los Angeles next Friday\"\n\n# In Jupyter, use await directly\nresponse_1 = await process_user_query_async(test_query_1)\nprint(\"\\n📬 Response for Slack:\")\nprint(response_1)"
  },
  {
   "cell_type": "code",
   "execution_count": null,
   "metadata": {},
   "outputs": [],
   "source": "# Test Query 2: Different route\ntest_query_2 = \"Show me available flights from Boston to Miami on December 15th\"\n\n# In Jupyter, use await directly\nresponse_2 = await process_user_query_async(test_query_2)\nprint(\"\\n📬 Response for Slack:\")\nprint(response_2)"
  },
  {
   "cell_type": "code",
   "execution_count": null,
   "metadata": {},
   "outputs": [],
   "source": "# Test Query 3: General inquiry\ntest_query_3 = \"I need to book a flight from Chicago to San Francisco for a business trip\"\n\n# In Jupyter, use await directly\nresponse_3 = await process_user_query_async(test_query_3)\nprint(\"\\n📬 Response for Slack:\")\nprint(response_3)"
  },
  {
   "cell_type": "markdown",
   "metadata": {},
   "source": [
    "## Next Steps\n",
    "\n",
    "1. ✅ Main agent orchestrator is ready\n",
    "2. 🔜 Implement actual query_agent (Amadeus API integration)\n",
    "3. 🔜 Implement actual explainer_agent (response formatting)\n",
    "4. 🔜 Integrate with Slack_agent.ipynb by importing `process_user_query()`\n",
    "\n",
    "## Integration with Slack\n",
    "\n",
    "In `Slack_agent.ipynb`, replace the placeholder response with:\n",
    "\n",
    "```python\n",
    "from main_agent import process_user_query\n",
    "\n",
    "@app.command(\"/ask_amadeus\")\n",
    "def handle_ask_amadeus_command(ack, command, say):\n",
    "    ack()\n",
    "    user_query = command['text']\n",
    "    \n",
    "    # Call the main agent\n",
    "    response = process_user_query(user_query)\n",
    "    \n",
    "    # Send to Slack\n",
    "    say(response)\n",
    "```"
   ]
  }
 ],
 "metadata": {
  "kernelspec": {
   "display_name": "Python 3",
   "language": "python",
   "name": "python3"
  },
  "language_info": {
   "codemirror_mode": {
    "name": "ipython",
    "version": 3
   },
   "file_extension": ".py",
   "mimetype": "text/x-python",
   "name": "python",
   "nbconvert_exporter": "python",
   "pygments_lexer": "ipython3",
   "version": "3.13.7"
  }
 },
 "nbformat": 4,
 "nbformat_minor": 4
}